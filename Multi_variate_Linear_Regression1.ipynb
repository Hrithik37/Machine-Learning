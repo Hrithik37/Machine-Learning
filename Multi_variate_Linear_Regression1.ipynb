{
 "cells": [
  {
   "cell_type": "code",
   "execution_count": 1,
   "metadata": {},
   "outputs": [],
   "source": [
    "#Importing all required libraries\n",
    "import pandas as pd\n",
    "import numpy as np\n",
    "import matplotlib.pyplot as plt\n",
    "import random\n",
    "from IPython.display import clear_output"
   ]
  },
  {
   "cell_type": "code",
   "execution_count": 2,
   "metadata": {},
   "outputs": [
    {
     "data": {
      "text/html": [
       "<div>\n",
       "<style scoped>\n",
       "    .dataframe tbody tr th:only-of-type {\n",
       "        vertical-align: middle;\n",
       "    }\n",
       "\n",
       "    .dataframe tbody tr th {\n",
       "        vertical-align: top;\n",
       "    }\n",
       "\n",
       "    .dataframe thead th {\n",
       "        text-align: right;\n",
       "    }\n",
       "</style>\n",
       "<table border=\"1\" class=\"dataframe\">\n",
       "  <thead>\n",
       "    <tr style=\"text-align: right;\">\n",
       "      <th></th>\n",
       "      <th>ENGINESIZE</th>\n",
       "      <th>CYLINDERS</th>\n",
       "      <th>FUELCONSUMPTION_CITY</th>\n",
       "      <th>FUELCONSUMPTION_HWY</th>\n",
       "      <th>FUELCONSUMPTION_COMB</th>\n",
       "      <th>CO2EMISSIONS</th>\n",
       "    </tr>\n",
       "  </thead>\n",
       "  <tbody>\n",
       "    <tr>\n",
       "      <th>0</th>\n",
       "      <td>2.0</td>\n",
       "      <td>4</td>\n",
       "      <td>9.9</td>\n",
       "      <td>6.7</td>\n",
       "      <td>8.5</td>\n",
       "      <td>196</td>\n",
       "    </tr>\n",
       "    <tr>\n",
       "      <th>1</th>\n",
       "      <td>2.4</td>\n",
       "      <td>4</td>\n",
       "      <td>11.2</td>\n",
       "      <td>7.7</td>\n",
       "      <td>9.6</td>\n",
       "      <td>221</td>\n",
       "    </tr>\n",
       "    <tr>\n",
       "      <th>2</th>\n",
       "      <td>1.5</td>\n",
       "      <td>4</td>\n",
       "      <td>6.0</td>\n",
       "      <td>5.8</td>\n",
       "      <td>5.9</td>\n",
       "      <td>136</td>\n",
       "    </tr>\n",
       "    <tr>\n",
       "      <th>3</th>\n",
       "      <td>3.5</td>\n",
       "      <td>6</td>\n",
       "      <td>12.7</td>\n",
       "      <td>9.1</td>\n",
       "      <td>11.1</td>\n",
       "      <td>255</td>\n",
       "    </tr>\n",
       "    <tr>\n",
       "      <th>4</th>\n",
       "      <td>3.5</td>\n",
       "      <td>6</td>\n",
       "      <td>12.1</td>\n",
       "      <td>8.7</td>\n",
       "      <td>10.6</td>\n",
       "      <td>244</td>\n",
       "    </tr>\n",
       "  </tbody>\n",
       "</table>\n",
       "</div>"
      ],
      "text/plain": [
       "   ENGINESIZE  CYLINDERS  FUELCONSUMPTION_CITY  FUELCONSUMPTION_HWY  \\\n",
       "0         2.0          4                   9.9                  6.7   \n",
       "1         2.4          4                  11.2                  7.7   \n",
       "2         1.5          4                   6.0                  5.8   \n",
       "3         3.5          6                  12.7                  9.1   \n",
       "4         3.5          6                  12.1                  8.7   \n",
       "\n",
       "   FUELCONSUMPTION_COMB  CO2EMISSIONS  \n",
       "0                   8.5           196  \n",
       "1                   9.6           221  \n",
       "2                   5.9           136  \n",
       "3                  11.1           255  \n",
       "4                  10.6           244  "
      ]
     },
     "execution_count": 2,
     "metadata": {},
     "output_type": "execute_result"
    }
   ],
   "source": [
    "#Reading our dataset \n",
    "df = pd.read_csv(\"FuelConsumptionCo2.csv\")\n",
    "cdf = df[['ENGINESIZE','CYLINDERS','FUELCONSUMPTION_CITY','FUELCONSUMPTION_HWY','FUELCONSUMPTION_COMB','CO2EMISSIONS']]\n",
    "cdf.head()"
   ]
  },
  {
   "cell_type": "code",
   "execution_count": 3,
   "metadata": {},
   "outputs": [],
   "source": [
    "#Spliting data into training set and test set\n",
    "split = np.random.rand(len(df))<0.8\n",
    "train = cdf[split]\n",
    "test = cdf[~split]"
   ]
  },
  {
   "cell_type": "code",
   "execution_count": 4,
   "metadata": {},
   "outputs": [],
   "source": [
    "#Converting data frames into numpy arrays \n",
    "train_x = np.asanyarray(train[['ENGINESIZE','CYLINDERS','FUELCONSUMPTION_CITY','FUELCONSUMPTION_HWY','FUELCONSUMPTION_COMB']])\n",
    "train_y = np.asanyarray(train[['CO2EMISSIONS']])\n",
    "test_x =  np.asanyarray(test[['ENGINESIZE','CYLINDERS','FUELCONSUMPTION_CITY','FUELCONSUMPTION_HWY','FUELCONSUMPTION_COMB']])\n",
    "test_y = np.asanyarray(test[['CO2EMISSIONS']])"
   ]
  },
  {
   "cell_type": "code",
   "execution_count": 33,
   "metadata": {},
   "outputs": [
    {
     "name": "stdout",
     "output_type": "stream",
     "text": [
      "(837, 5) (1, 837)\n"
     ]
    }
   ],
   "source": [
    "print(train_x.shape,train_y.shape)"
   ]
  },
  {
   "cell_type": "code",
   "execution_count": 143,
   "metadata": {},
   "outputs": [],
   "source": [
    "#Normalization\n",
    "train_x = train_x/train_x.max()\n",
    "train_y = train_y/train_y.max()\n",
    "test_x = test_x/test_x.max()\n",
    "test_y = test_y/test_y.max()\n",
    "train_y = train_y.T"
   ]
  },
  {
   "cell_type": "code",
   "execution_count": 147,
   "metadata": {},
   "outputs": [],
   "source": [
    "#Defining functions for line,Mean square error,derivative of slope and derivative of intercept\n",
    "def line(m,x,c):\n",
    "    return np.dot(m,x.T)+c\n",
    "def error(x,m,c,y):\n",
    "    return np.mean((line(m,x,c) - y)**2)\n",
    "def der_slope(x,m,c,y):\n",
    "    return 2* np.mean(np.multiply((line(m,x,c)-y.T),x.T),axis = 1)\n",
    "def der_intercept(m,x,c,y):\n",
    "    return np.mean(2 * (line(m,x,c) - y), axis = 1)\n",
    "def accuracy_pred(error,y):\n",
    "    return 100 - (error/np.mean(y**2))*100"
   ]
  },
  {
   "cell_type": "code",
   "execution_count": 148,
   "metadata": {},
   "outputs": [
    {
     "name": "stdout",
     "output_type": "stream",
     "text": [
      "Initial Error:  3.646271848625148\n",
      "Final Reduced Error:  0.08705788588229141\n",
      "[[ 1.44981748 -0.35800276  1.29640022 -0.4690964   0.05251056]] [ 0.34917203  0.31353766  0.2717738   0.27839711  0.24236712  0.25052149\n",
      "  0.24821133  0.32792959  0.32907489  0.14873617  0.14873617  0.14549081\n",
      "  0.15225167  0.14549081  0.15225167  0.14873617  0.3460624   0.34811657\n",
      "  0.34811657  0.32779141  0.28124447  0.28162035  0.3889203   0.28162035\n",
      "  0.21668253  0.38336296  0.28162035  0.36834284  0.34332864  0.30082836\n",
      "  0.42892814  0.15626388  0.1293876   0.08534512  0.1293876   0.08534512\n",
      "  0.10619421  0.23224013  0.24961275  0.18245072  0.29069137  0.26411878\n",
      "  0.26411878  0.20046571  0.36149024  0.36149024  0.37573557  0.37573557\n",
      "  0.20046571  0.06576493  0.05643793  0.18812795  0.05643793  0.05643793\n",
      "  0.33219295  0.32610262  0.34837255  0.45334287  0.45334287  0.33219295\n",
      "  0.32610262  0.34228222  0.34228222  0.28501413  0.28528063  0.30146023\n",
      "  0.28474764  0.33219295  0.32610262  0.28019805  0.28501413  0.28528063\n",
      "  0.30146023  0.34837255  0.34228222  0.4009615   0.2886372   0.18789025\n",
      "  0.28474764  0.18789025  0.19765136  0.18789025  0.18789025  0.3218331\n",
      "  0.18789025  0.17492062  0.17492062  0.18672539  0.17492062  0.18672539\n",
      "  0.34228222  0.28135386  0.37379079  0.3066522   0.28717769  0.18763426\n",
      "  0.2335152   0.30288253  0.19670528  0.32778091  0.32610262  0.29861709\n",
      "  0.24080389  0.24274867  0.42253297  0.42772494  0.21549504  0.32236174\n",
      "  0.34034795  0.32023107  0.32236174  0.32023107  0.29498968  0.31818741\n",
      "  0.31107461  0.33334875  0.24973736  0.23393363  0.32374475  0.22147598\n",
      "  0.32579892  0.23523604  0.29835059  0.24143575  0.02719244  0.11508285\n",
      "  0.02719244  0.11508285  0.02719244  0.11508285  0.08007112 -0.35006185\n",
      "  0.08122692 -0.40791736  0.21576153  0.22354066  0.23393363  0.19360099\n",
      "  0.21580925  0.05416761  0.02719244  0.11508285  0.04745446  0.33748443\n",
      "  0.36847957  0.40269503  0.3842917   0.39000615  0.32388293  0.24532532\n",
      " -0.09928368  0.32325106  0.22510955 -0.12728753  0.20903594  0.16653566\n",
      " -0.25234499  0.19296165 -0.22572315 -0.24336226  0.19296165 -0.28137607\n",
      "  0.16885633 -0.24336226  0.1253901  -0.50641032  0.12603248  0.04388611\n",
      " -0.51314303  0.29732506  0.23161297 -0.05776488  0.33023975  0.34034795\n",
      "  0.31753661  0.31742722  0.22409695 -0.11245584  0.16212217 -0.19777704\n",
      "  0.08578556  0.22862889 -0.13413293  0.16406695 -0.20001838  0.09603194\n",
      "  0.41191071  0.41696513  0.36821307  0.41191071  0.41422086  0.36821307\n",
      "  0.41385549  0.43785142  0.41385549  0.43785142  0.45196699  0.14331819\n",
      "  0.14331819 -0.25998446  0.14331819 -0.25998446  0.14331819 -0.25998446\n",
      "  0.24080389  0.24274867  0.42005521  0.42551366  0.31494946  0.26905947\n",
      "  0.23187946 -0.07684585  0.28150662  0.23187946 -0.07684585  0.04546618\n",
      "  0.24159286  0.24159286 -0.07262098  0.22006418  0.01280892  0.230824\n",
      "  0.32750599  0.28150662  0.23187946 -0.07684585  0.23393363  0.04546618\n",
      "  0.01528669  0.01280892  0.23393363  0.22006418  0.04546618  0.24159286\n",
      "  0.07189217  0.24159286 -0.07262098  0.23393363 -0.09246268  0.22033068\n",
      " -0.09569908  0.01280892  0.35435349  0.31600492  0.29783282  0.35850955\n",
      "  0.08528144  0.32792959  0.32193815  0.39868363  0.0613898   0.25309393\n",
      " -0.04927639  0.24311404 -0.11400032  0.31894841  0.23250228  0.22278889\n",
      " -0.10888768  0.44183987  0.43628253  0.44183987  0.43628253  0.42980581\n",
      "  0.44183987  0.39946356  0.42809031  0.48478782  0.2645202  -0.18601744\n",
      "  0.16743969 -0.26204395  0.23999128 -0.22403124  0.06979333  0.15510193\n",
      " -0.31594977  0.34590529  0.2553277   0.38478685  0.36407739  0.311184\n",
      "  0.39817102  0.37379079  0.15005656 -0.2919818   0.26553687  0.26180442\n",
      "  0.26569398 -0.06892453  0.26672989  0.2648945   0.25271384 -0.0853307\n",
      "  0.25986951 -0.0853307   0.20138527 -0.19952973  0.20138527  0.27163707\n",
      " -0.09775857  0.27163707 -0.09775857  0.19686384 -0.20307347  0.19438607\n",
      "  0.41308543  0.40505033  0.4471692   0.40116076  0.26541698  0.27891054\n",
      "  0.24882428  0.36202322  0.37031432  0.16050957  0.36847893  0.16050957\n",
      "  0.3706902   0.16500093  0.36086742  0.15732061  0.36771372  0.379219\n",
      "  0.34254872  0.37779249  0.46456155  0.22979229  0.18377285  0.23147058\n",
      "  0.35031733  0.25234701 -0.0736927   0.25975025 -0.09388919  0.38960293\n",
      "  0.32494406  0.38231959  0.31675185  0.24080389  0.24312455  0.20903594\n",
      "  0.16653566 -0.25234499  0.19296165 -0.24336226  0.16885633 -0.24336226\n",
      "  0.19296165 -0.28137607  0.1253901   0.04944345 -0.50641032  0.12603248\n",
      "  0.04388611 -0.51314303  0.22409695  0.16212217  0.08578556  0.16406695\n",
      " -0.20001838  0.32388293  0.24532532  0.32325106  0.22510955 -0.12728753\n",
      "  0.14331819 -0.25998446  0.14331819 -0.25998446  0.08007112  0.08122692\n",
      " -0.40791736  0.14331819 -0.25998446  0.14331819 -0.25998446  0.35359331\n",
      "  0.32220464  0.23653278  0.24715504  0.23213124  0.45290337  0.39754757\n",
      "  0.39975884  0.40143713  0.25402529  0.34346682  0.46352985  0.43371008\n",
      "  0.44353287  0.2623269   0.26012613  0.25350281  0.27035295  0.39517983\n",
      "  0.36811355  0.36034494  0.13789338  0.22627377  0.27296745  0.34126605\n",
      "  0.36313132  0.33658752  0.32390185  0.33391053  0.40431893  0.40248354\n",
      "  0.39584194  0.36705808  0.33775238  0.40205217  0.3986935   0.40205008\n",
      "  0.2393963   0.32820336  0.24847782  0.23677193  0.23262639  0.23860732\n",
      "  0.24432177  0.11949344  0.29614562  0.41079081  0.17754644  0.1152013\n",
      "  0.30497391  0.3265984   0.23740865  0.14409309 -0.24347465  0.14409309\n",
      "  0.26098099  0.13605798 -0.22835206  0.25451478 -0.22835206  0.13605798\n",
      "  0.15810914  0.1618416   0.1618416   0.16923433  0.32556121  0.27438409\n",
      "  0.33775238  0.28318861  0.34062368  0.35319072  0.28125434  0.37756045\n",
      "  0.3386789   0.36914104  0.34956766  0.40243728  0.09677741  0.43405129\n",
      "  0.25309393 -0.04927639  0.04158373  0.3651133   0.34956766  0.37070994\n",
      "  0.40243728  0.29846144  0.29042633  0.29588479  0.27102267  0.36821307\n",
      "  0.36783719  0.38997881  0.35629827  0.39633563  0.36590228  0.32270884\n",
      "  0.31416953  0.39701522  0.40321494  0.36083021  0.3444935   0.26957303\n",
      "  0.32519584  0.29497089  0.29018296  0.42216696  0.41876267  0.38402666\n",
      "  0.33128617  0.32115968  0.37143292  0.34294434 -0.04960064  0.17724499\n",
      "  0.11255103  0.35148365  0.31144158  0.34590529  0.17869174 -0.32439795\n",
      "  0.29625922  0.29625922 -0.02834066  0.16288801  0.29652571  0.29652571\n",
      " -0.03179611  0.17869174 -0.32439795  0.47379031  0.4356746   0.25832795\n",
      "  0.26011562  0.2800754   0.37889178  0.2273344   0.33864879  0.35187586\n",
      "  0.33864879  0.2800754   0.27839711  0.17417936  0.18259876  0.18805722\n",
      "  0.18805722  0.28516734  0.12478281  0.2717738   0.41805957  0.24972264\n",
      "  0.24312876  0.24882428  0.2489631   0.27620622  0.34254872  0.25246627\n",
      "  0.46262728  0.15005656 -0.2919818   0.23882045  0.23882045  0.11659756\n",
      "  0.13331015  0.17336078  0.21639341  0.40661081  0.38029421  0.35114076\n",
      "  0.40208938  0.36268955  0.24223039  0.43706666  0.44315698  0.37472636\n",
      "  0.35009434  0.34840701  0.3320703   0.3295027   0.33402413  0.36639806\n",
      "  0.39778672  0.37405728  0.36422399  0.35744421  0.3494091   0.26416229\n",
      " -0.04604363  0.27866361  0.27775474  0.27839711  0.2721974   0.05764408\n",
      "  0.06142425  0.18025561  0.14606182  0.35240871  0.37846932  0.20516755\n",
      "  0.14411704  0.14411704  0.42306305  0.26804134  0.27618584  0.2721974\n",
      "  0.26971963  0.26221751  0.32768088  0.18843731  0.18973972  0.18622604\n",
      "  0.13504602  0.14422643  0.14422643  0.18893537  0.45844595  0.21706553\n",
      "  0.16534201  0.46154257  0.2980904   0.30301587 -0.02354806  0.42357899\n",
      "  0.20503147  0.18260524  0.17534779  0.17561428  0.11288548  0.21384504\n",
      "  0.13440364  0.07737521  0.36536993  0.28836649  0.1029127   0.06956875\n",
      "  0.41098355  0.42058755  0.41098355  0.42058755  0.4360259   0.42058755\n",
      "  0.42058755  0.4071045   0.3986935   0.41229646  0.42695488  0.4071045\n",
      "  0.41229646  0.42695488  0.3986935   0.4071045   0.3986935   0.4071045\n",
      "  0.3986935   0.42695488  0.4071045   0.3986935   0.41229646  0.42695488\n",
      "  0.4071045   0.3986935   0.38250548  0.348907    0.34669572  0.33346865\n",
      "  0.38261487  0.36654465  0.45747797  0.44308604  0.36578447  0.37523137\n",
      "  0.32583205  0.37561567  0.40193227  0.26039199  0.24416466  0.24794484\n",
      "  0.33596891  0.27088448  0.10885498  0.33775804  0.37393463  0.21447887\n",
      "  0.22004672  0.24183138  0.43860255  0.42022218  0.44249211  0.288377\n",
      "  0.29303598  0.28800112  0.29614562  0.40999132  0.29098181  0.35723109\n",
      "  0.40401378  0.39776635  0.12712597  0.12671287  0.43162291  0.23380678\n",
      "  0.26336005  0.28462983  0.28684111  0.27864889  0.25803832  0.24574828\n",
      "  0.28241856  0.25857131  0.233933    0.2438035   0.2352087   0.24040972\n",
      "  0.24040972  0.32558869  0.31960775  0.27890488  0.28436334  0.27256843\n",
      "  0.2306774   0.39881364  0.19490919  0.19064374  0.36630224  0.31960775\n",
      "  0.28436334  0.23198885  0.23302476  0.26685254  0.25828444  0.14511913\n",
      "  0.1475969   0.11441653  0.1263412   0.12039747  0.42826803  0.24117977\n",
      " -0.12961716  0.42756743  0.2391256  -0.10794006  0.26737647  0.24300465\n",
      " -0.10377504  0.04790849  0.04790849  0.0048568   0.00328791  0.00328791\n",
      "  0.04466131  0.36590228  0.35356452  0.46740954  0.33517993  0.36369309\n",
      "  0.36369309  0.41115052  0.41945213  0.46433835 -0.0938698  -0.0938698\n",
      "  0.37484626  0.41137917  0.35114076  0.3403719   0.37484626  0.33245669\n",
      "  0.38454914  0.37484626  0.33245669  0.31429509  0.34310565  0.32494406\n",
      "  0.26128614  0.35928526  0.35460672  0.26258855  0.27630089  0.38288136\n",
      "  0.38807333  0.42812897  0.26646969  0.25832795  0.32378825  0.27439816\n",
      "  0.43372982  0.39803284  0.40595856  0.39414328  0.39765696  0.3921985\n",
      "  0.41982801  0.26803859  0.26557133  0.31340514  0.29032178  0.28305609\n",
      "  0.41622418  0.47934765  0.34505043  0.35292844  0.34619573  0.12581872\n",
      "  0.27555397  0.26478511  0.32532981  0.33934586  0.2659367   0.34050166\n",
      "  0.35409411  0.26814798  0.27980615  0.2756501   0.24351401  0.13410981\n",
      "  0.22923147  0.15811626  0.27360919  0.31367164  0.44342348  0.39609857\n",
      "  0.36952534  0.35226211  0.31968907  0.38753047  0.38780683  0.35226211\n",
      "  0.3612764   0.43861563  0.35420689  0.32336886  0.23923499  0.36407739\n",
      "  0.32524641  0.30140757  0.45377698  0.44751904  0.37161736  0.37808357\n",
      "  0.37147012  0.35058383  0.36822294  0.3527951   0.44751904  0.47233922\n",
      "  0.37015785  0.36369164  0.22898861  0.39505297  0.39348407  0.27477971\n",
      "  0.39077853  0.32913597  0.28047441  0.30002888  0.27643826  0.30843987\n",
      "  0.28681168  0.29381088  0.25904608]\n"
     ]
    }
   ],
   "source": [
    "#Performing Gradient descent loop for finding out slope and intercept\n",
    "m = np.random.randn(1,5)\n",
    "c = np.random.randn(1)\n",
    "m_copy = m\n",
    "c_copy = c\n",
    "cost = []\n",
    "lr = 0.0008\n",
    "for i in range(len(train_x)):\n",
    "    m = m - lr*der_slope(train_x,m,c,train_y)\n",
    "    c = c - lr*der_intercept(train_x,m,c,train_y)\n",
    "    cost.append(error(train_x,m,c,train_y))\n",
    "    clear_output(True)\n",
    "    \n",
    "print(\"Initial Error: \",error(train_x,m_copy,c_copy,train_y))\n",
    "print(\"Final Reduced Error: \",error(train_x,m,c,train_y))\n",
    "print(m,c)"
   ]
  },
  {
   "cell_type": "code",
   "execution_count": 149,
   "metadata": {},
   "outputs": [
    {
     "data": {
      "text/plain": [
       "[<matplotlib.lines.Line2D at 0x19b3480e048>]"
      ]
     },
     "execution_count": 149,
     "metadata": {},
     "output_type": "execute_result"
    },
    {
     "data": {
      "image/png": "[encoded data removed]",
      "text/plain": [
       "<Figure size 432x288 with 1 Axes>"
      ]
     },
     "metadata": {
      "needs_background": "light"
     },
     "output_type": "display_data"
    }
   ],
   "source": [
    "#plotting error reducing plot\n",
    "plt.plot(cost)"
   ]
  },
  {
   "cell_type": "code",
   "execution_count": 150,
   "metadata": {},
   "outputs": [
    {
     "name": "stdout",
     "output_type": "stream",
     "text": [
      "our prediction accuracy on training data set is 65.91305408624689\n",
      "our prediction accuracy on testing data set is 64.45241459736438\n"
     ]
    }
   ],
   "source": [
    "#prediction accuracy on training and testing dataset\n",
    "print(\"our prediction accuracy on training data set is\",accuracy_pred(error(m,train_x,c,train_y),train_y))\n",
    "print(\"our prediction accuracy on testing data set is\",accuracy_pred(error(m,test_x,c,test_y),test_y))\n"
   ]
  },
  {
   "cell_type": "code",
   "execution_count": null,
   "metadata": {},
   "outputs": [],
   "source": []
  }
 ],
 "metadata": {
  "kernelspec": {
   "display_name": "Python 3",
   "language": "python",
   "name": "python3"
  },
  "language_info": {
   "codemirror_mode": {
    "name": "ipython",
    "version": 3
   },
   "file_extension": ".py",
   "mimetype": "text/x-python",
   "name": "python",
   "nbconvert_exporter": "python",
   "pygments_lexer": "ipython3",
   "version": "3.7.1"
  }
 },
 "nbformat": 4,
 "nbformat_minor": 2
}
